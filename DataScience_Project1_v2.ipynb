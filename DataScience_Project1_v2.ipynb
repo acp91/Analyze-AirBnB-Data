{
 "cells": [
  {
   "cell_type": "markdown",
   "metadata": {},
   "source": [
    "# Introduction\n",
    "As part of my first project I decided to analyze the Boston Air BnB data. AirBnB is becoming more and more popular way for people to travel and visit new places as well as simply staying the night in their favorite city. While booking apartments through AirBnB is arguably already the cheapest/best way for people to spend the night, it would still be useful to see how prices differ throughout the year and whether we can use existing data to predict average price in the future. Such information could help people plan their next holidays better and save some extra money for other activities."
   ]
  },
  {
   "cell_type": "markdown",
   "metadata": {},
   "source": [
    "# Goals for This Project\n",
    "I will answer the following questions: <br>\n",
    "1. Are there any seasonality effects/do prices tend to be higher during certain times of the year?\n",
    "2. Are there any significat differences between AirBnB prices between the two cities or are they similar?\n",
    "3. Can we use the \"% of available apartments\" to predict the average price for an AirBnB booking?"
   ]
  },
  {
   "cell_type": "markdown",
   "metadata": {},
   "source": [
    "## Load the data"
   ]
  },
  {
   "cell_type": "code",
   "execution_count": 80,
   "metadata": {},
   "outputs": [],
   "source": [
    "# first import the packes we will need\n",
    "# pandas to read the data, clean it and prepare it\n",
    "# numpy in case we will have to work with numarical arrays\n",
    "# matplotlib for plotting\n",
    "import pandas as pd\n",
    "import numpy as np\n",
    "import matplotlib.pyplot as plt\n",
    "import seaborn as sns"
   ]
  },
  {
   "cell_type": "code",
   "execution_count": 81,
   "metadata": {},
   "outputs": [],
   "source": [
    "# read the calendar data from my github repository for this project into dfs\n",
    "df_calendar_boston = pd.read_csv('https://github.com/acp91/DataScience_Project1/blob/master/calendar_boston.csv?raw=true')\n",
    "df_calendar_seattle = pd.read_csv('https://github.com/acp91/DataScience_Project1/blob/master/calendar_seattle.csv?raw=true')\n",
    "#df_listings_boston = pd.read_csv('https://github.com/acp91/DataScience_Project1/blob/master/listings_boston.csv?raw=true')\n",
    "#df_listings_seattle = pd.read_csv('https://github.com/acp91/DataScience_Project1/blob/master/listings_seattle.csv?raw=true')\n",
    "#df_reviews_boston = pd.read_csv('https://github.com/acp91/DataScience_Project1/blob/master/reviews_boston.csv?raw=true')\n",
    "#df_reviews_seattle = pd.read_csv('https://github.com/acp91/DataScience_Project1/blob/master/reviews_seattle.csv?raw=true')"
   ]
  },
  {
   "cell_type": "markdown",
   "metadata": {},
   "source": [
    "Let's first check df_celndar data sets to see how the data looks like"
   ]
  },
  {
   "cell_type": "code",
   "execution_count": 82,
   "metadata": {
    "scrolled": true
   },
   "outputs": [
    {
     "data": {
      "text/html": [
       "<div>\n",
       "<style scoped>\n",
       "    .dataframe tbody tr th:only-of-type {\n",
       "        vertical-align: middle;\n",
       "    }\n",
       "\n",
       "    .dataframe tbody tr th {\n",
       "        vertical-align: top;\n",
       "    }\n",
       "\n",
       "    .dataframe thead th {\n",
       "        text-align: right;\n",
       "    }\n",
       "</style>\n",
       "<table border=\"1\" class=\"dataframe\">\n",
       "  <thead>\n",
       "    <tr style=\"text-align: right;\">\n",
       "      <th></th>\n",
       "      <th>listing_id</th>\n",
       "      <th>date</th>\n",
       "      <th>available</th>\n",
       "      <th>price</th>\n",
       "    </tr>\n",
       "  </thead>\n",
       "  <tbody>\n",
       "    <tr>\n",
       "      <th>0</th>\n",
       "      <td>12147973</td>\n",
       "      <td>2017-09-05</td>\n",
       "      <td>f</td>\n",
       "      <td>NaN</td>\n",
       "    </tr>\n",
       "    <tr>\n",
       "      <th>1</th>\n",
       "      <td>12147973</td>\n",
       "      <td>2017-09-04</td>\n",
       "      <td>f</td>\n",
       "      <td>NaN</td>\n",
       "    </tr>\n",
       "    <tr>\n",
       "      <th>2</th>\n",
       "      <td>12147973</td>\n",
       "      <td>2017-09-03</td>\n",
       "      <td>f</td>\n",
       "      <td>NaN</td>\n",
       "    </tr>\n",
       "    <tr>\n",
       "      <th>3</th>\n",
       "      <td>12147973</td>\n",
       "      <td>2017-09-02</td>\n",
       "      <td>f</td>\n",
       "      <td>NaN</td>\n",
       "    </tr>\n",
       "    <tr>\n",
       "      <th>4</th>\n",
       "      <td>12147973</td>\n",
       "      <td>2017-09-01</td>\n",
       "      <td>f</td>\n",
       "      <td>NaN</td>\n",
       "    </tr>\n",
       "  </tbody>\n",
       "</table>\n",
       "</div>"
      ],
      "text/plain": [
       "   listing_id        date available price\n",
       "0    12147973  2017-09-05         f   NaN\n",
       "1    12147973  2017-09-04         f   NaN\n",
       "2    12147973  2017-09-03         f   NaN\n",
       "3    12147973  2017-09-02         f   NaN\n",
       "4    12147973  2017-09-01         f   NaN"
      ]
     },
     "execution_count": 82,
     "metadata": {},
     "output_type": "execute_result"
    }
   ],
   "source": [
    "df_calendar_boston.head()"
   ]
  },
  {
   "cell_type": "markdown",
   "metadata": {},
   "source": [
    "Next let's check if there are any duplicates and drop them if needed"
   ]
  },
  {
   "cell_type": "code",
   "execution_count": 83,
   "metadata": {},
   "outputs": [
    {
     "name": "stdout",
     "output_type": "stream",
     "text": [
      "Boston has 365 number of duplicates and Seattle has 0 number of duplicates.\n"
     ]
    }
   ],
   "source": [
    "print('Boston has {} number of duplicates and Seattle has {} number of duplicates.'.format(df_calendar_boston.duplicated().sum(), df_calendar_seattle.duplicated().sum()))"
   ]
  },
  {
   "cell_type": "code",
   "execution_count": 84,
   "metadata": {},
   "outputs": [
    {
     "data": {
      "text/plain": [
       "0"
      ]
     },
     "execution_count": 84,
     "metadata": {},
     "output_type": "execute_result"
    }
   ],
   "source": [
    "# let's drop duplicates from the Boston dataset\n",
    "df_calendar_boston.drop_duplicates(inplace=True)\n",
    "df_calendar_boston.duplicated().sum()"
   ]
  },
  {
   "cell_type": "code",
   "execution_count": 85,
   "metadata": {},
   "outputs": [
    {
     "data": {
      "text/html": [
       "<div>\n",
       "<style scoped>\n",
       "    .dataframe tbody tr th:only-of-type {\n",
       "        vertical-align: middle;\n",
       "    }\n",
       "\n",
       "    .dataframe tbody tr th {\n",
       "        vertical-align: top;\n",
       "    }\n",
       "\n",
       "    .dataframe thead th {\n",
       "        text-align: right;\n",
       "    }\n",
       "</style>\n",
       "<table border=\"1\" class=\"dataframe\">\n",
       "  <thead>\n",
       "    <tr style=\"text-align: right;\">\n",
       "      <th></th>\n",
       "      <th>listing_id</th>\n",
       "      <th>date</th>\n",
       "      <th>available</th>\n",
       "      <th>price</th>\n",
       "      <th>t</th>\n",
       "      <th>boston?</th>\n",
       "    </tr>\n",
       "  </thead>\n",
       "  <tbody>\n",
       "    <tr>\n",
       "      <th>0</th>\n",
       "      <td>12147973</td>\n",
       "      <td>2017-09-05</td>\n",
       "      <td>f</td>\n",
       "      <td>NaN</td>\n",
       "      <td>0</td>\n",
       "      <td>1</td>\n",
       "    </tr>\n",
       "    <tr>\n",
       "      <th>1</th>\n",
       "      <td>12147973</td>\n",
       "      <td>2017-09-04</td>\n",
       "      <td>f</td>\n",
       "      <td>NaN</td>\n",
       "      <td>0</td>\n",
       "      <td>1</td>\n",
       "    </tr>\n",
       "    <tr>\n",
       "      <th>2</th>\n",
       "      <td>12147973</td>\n",
       "      <td>2017-09-03</td>\n",
       "      <td>f</td>\n",
       "      <td>NaN</td>\n",
       "      <td>0</td>\n",
       "      <td>1</td>\n",
       "    </tr>\n",
       "    <tr>\n",
       "      <th>3</th>\n",
       "      <td>12147973</td>\n",
       "      <td>2017-09-02</td>\n",
       "      <td>f</td>\n",
       "      <td>NaN</td>\n",
       "      <td>0</td>\n",
       "      <td>1</td>\n",
       "    </tr>\n",
       "    <tr>\n",
       "      <th>4</th>\n",
       "      <td>12147973</td>\n",
       "      <td>2017-09-01</td>\n",
       "      <td>f</td>\n",
       "      <td>NaN</td>\n",
       "      <td>0</td>\n",
       "      <td>1</td>\n",
       "    </tr>\n",
       "    <tr>\n",
       "      <th>...</th>\n",
       "      <td>...</td>\n",
       "      <td>...</td>\n",
       "      <td>...</td>\n",
       "      <td>...</td>\n",
       "      <td>...</td>\n",
       "      <td>...</td>\n",
       "    </tr>\n",
       "    <tr>\n",
       "      <th>1393565</th>\n",
       "      <td>10208623</td>\n",
       "      <td>2016-12-29</td>\n",
       "      <td>f</td>\n",
       "      <td>NaN</td>\n",
       "      <td>0</td>\n",
       "      <td>0</td>\n",
       "    </tr>\n",
       "    <tr>\n",
       "      <th>1393566</th>\n",
       "      <td>10208623</td>\n",
       "      <td>2016-12-30</td>\n",
       "      <td>f</td>\n",
       "      <td>NaN</td>\n",
       "      <td>0</td>\n",
       "      <td>0</td>\n",
       "    </tr>\n",
       "    <tr>\n",
       "      <th>1393567</th>\n",
       "      <td>10208623</td>\n",
       "      <td>2016-12-31</td>\n",
       "      <td>f</td>\n",
       "      <td>NaN</td>\n",
       "      <td>0</td>\n",
       "      <td>0</td>\n",
       "    </tr>\n",
       "    <tr>\n",
       "      <th>1393568</th>\n",
       "      <td>10208623</td>\n",
       "      <td>2017-01-01</td>\n",
       "      <td>f</td>\n",
       "      <td>NaN</td>\n",
       "      <td>0</td>\n",
       "      <td>0</td>\n",
       "    </tr>\n",
       "    <tr>\n",
       "      <th>1393569</th>\n",
       "      <td>10208623</td>\n",
       "      <td>2017-01-02</td>\n",
       "      <td>f</td>\n",
       "      <td>NaN</td>\n",
       "      <td>0</td>\n",
       "      <td>0</td>\n",
       "    </tr>\n",
       "  </tbody>\n",
       "</table>\n",
       "<p>2702095 rows × 6 columns</p>\n",
       "</div>"
      ],
      "text/plain": [
       "         listing_id        date available price  t  boston?\n",
       "0          12147973  2017-09-05         f   NaN  0        1\n",
       "1          12147973  2017-09-04         f   NaN  0        1\n",
       "2          12147973  2017-09-03         f   NaN  0        1\n",
       "3          12147973  2017-09-02         f   NaN  0        1\n",
       "4          12147973  2017-09-01         f   NaN  0        1\n",
       "...             ...         ...       ...   ... ..      ...\n",
       "1393565    10208623  2016-12-29         f   NaN  0        0\n",
       "1393566    10208623  2016-12-30         f   NaN  0        0\n",
       "1393567    10208623  2016-12-31         f   NaN  0        0\n",
       "1393568    10208623  2017-01-01         f   NaN  0        0\n",
       "1393569    10208623  2017-01-02         f   NaN  0        0\n",
       "\n",
       "[2702095 rows x 6 columns]"
      ]
     },
     "execution_count": 85,
     "metadata": {},
     "output_type": "execute_result"
    }
   ],
   "source": [
    "# let's create a dummy variable for the city and availability and join data sets\n",
    "df_calendar_boston_dummy = df_calendar_boston.join(pd.get_dummies(df_calendar_boston['available'], drop_first=True))\n",
    "df_calendar_seattle_dummy = df_calendar_seattle.join(pd.get_dummies(df_calendar_seattle['available'], drop_first=True))\n",
    "df_calendar_boston_dummy['boston?']=1\n",
    "df_calendar_seattle_dummy['boston?']=0\n",
    "df_calendar_dummy = df_calendar_boston_dummy.append(df_calendar_seattle_dummy)\n",
    "df_calendar_dummy"
   ]
  },
  {
   "cell_type": "markdown",
   "metadata": {},
   "source": [
    "## Availability by date"
   ]
  },
  {
   "cell_type": "code",
   "execution_count": 86,
   "metadata": {},
   "outputs": [],
   "source": [
    "# create a function that creates year and month string - we will use this for groupping and plotting\n",
    "def create_year_month(x):\n",
    "    # input should be a string of format yyyy-mm-dd\n",
    "    # function returns year and month date in format yyyy-mm to be used to for easier grouping and analysis\n",
    "    return x[:7]"
   ]
  },
  {
   "cell_type": "code",
   "execution_count": 87,
   "metadata": {},
   "outputs": [],
   "source": [
    "# create a new columns year_month that shows year month (yyyy-mm)\n",
    "df_calendar_dummy['year_month'] = df_calendar_dummy['date'].apply(create_year_month)"
   ]
  },
  {
   "cell_type": "code",
   "execution_count": 88,
   "metadata": {},
   "outputs": [
    {
     "data": {
      "text/html": [
       "<div>\n",
       "<style scoped>\n",
       "    .dataframe tbody tr th:only-of-type {\n",
       "        vertical-align: middle;\n",
       "    }\n",
       "\n",
       "    .dataframe tbody tr th {\n",
       "        vertical-align: top;\n",
       "    }\n",
       "\n",
       "    .dataframe thead th {\n",
       "        text-align: right;\n",
       "    }\n",
       "</style>\n",
       "<table border=\"1\" class=\"dataframe\">\n",
       "  <thead>\n",
       "    <tr style=\"text-align: right;\">\n",
       "      <th></th>\n",
       "      <th>listing_id</th>\n",
       "      <th>date</th>\n",
       "      <th>available</th>\n",
       "      <th>price</th>\n",
       "      <th>t</th>\n",
       "      <th>boston?</th>\n",
       "      <th>year_month</th>\n",
       "    </tr>\n",
       "  </thead>\n",
       "  <tbody>\n",
       "    <tr>\n",
       "      <th>0</th>\n",
       "      <td>12147973</td>\n",
       "      <td>2017-09-05</td>\n",
       "      <td>f</td>\n",
       "      <td>NaN</td>\n",
       "      <td>0</td>\n",
       "      <td>1</td>\n",
       "      <td>2017-09</td>\n",
       "    </tr>\n",
       "    <tr>\n",
       "      <th>1</th>\n",
       "      <td>12147973</td>\n",
       "      <td>2017-09-04</td>\n",
       "      <td>f</td>\n",
       "      <td>NaN</td>\n",
       "      <td>0</td>\n",
       "      <td>1</td>\n",
       "      <td>2017-09</td>\n",
       "    </tr>\n",
       "    <tr>\n",
       "      <th>2</th>\n",
       "      <td>12147973</td>\n",
       "      <td>2017-09-03</td>\n",
       "      <td>f</td>\n",
       "      <td>NaN</td>\n",
       "      <td>0</td>\n",
       "      <td>1</td>\n",
       "      <td>2017-09</td>\n",
       "    </tr>\n",
       "    <tr>\n",
       "      <th>3</th>\n",
       "      <td>12147973</td>\n",
       "      <td>2017-09-02</td>\n",
       "      <td>f</td>\n",
       "      <td>NaN</td>\n",
       "      <td>0</td>\n",
       "      <td>1</td>\n",
       "      <td>2017-09</td>\n",
       "    </tr>\n",
       "    <tr>\n",
       "      <th>4</th>\n",
       "      <td>12147973</td>\n",
       "      <td>2017-09-01</td>\n",
       "      <td>f</td>\n",
       "      <td>NaN</td>\n",
       "      <td>0</td>\n",
       "      <td>1</td>\n",
       "      <td>2017-09</td>\n",
       "    </tr>\n",
       "    <tr>\n",
       "      <th>...</th>\n",
       "      <td>...</td>\n",
       "      <td>...</td>\n",
       "      <td>...</td>\n",
       "      <td>...</td>\n",
       "      <td>...</td>\n",
       "      <td>...</td>\n",
       "      <td>...</td>\n",
       "    </tr>\n",
       "    <tr>\n",
       "      <th>1393565</th>\n",
       "      <td>10208623</td>\n",
       "      <td>2016-12-29</td>\n",
       "      <td>f</td>\n",
       "      <td>NaN</td>\n",
       "      <td>0</td>\n",
       "      <td>0</td>\n",
       "      <td>2016-12</td>\n",
       "    </tr>\n",
       "    <tr>\n",
       "      <th>1393566</th>\n",
       "      <td>10208623</td>\n",
       "      <td>2016-12-30</td>\n",
       "      <td>f</td>\n",
       "      <td>NaN</td>\n",
       "      <td>0</td>\n",
       "      <td>0</td>\n",
       "      <td>2016-12</td>\n",
       "    </tr>\n",
       "    <tr>\n",
       "      <th>1393567</th>\n",
       "      <td>10208623</td>\n",
       "      <td>2016-12-31</td>\n",
       "      <td>f</td>\n",
       "      <td>NaN</td>\n",
       "      <td>0</td>\n",
       "      <td>0</td>\n",
       "      <td>2016-12</td>\n",
       "    </tr>\n",
       "    <tr>\n",
       "      <th>1393568</th>\n",
       "      <td>10208623</td>\n",
       "      <td>2017-01-01</td>\n",
       "      <td>f</td>\n",
       "      <td>NaN</td>\n",
       "      <td>0</td>\n",
       "      <td>0</td>\n",
       "      <td>2017-01</td>\n",
       "    </tr>\n",
       "    <tr>\n",
       "      <th>1393569</th>\n",
       "      <td>10208623</td>\n",
       "      <td>2017-01-02</td>\n",
       "      <td>f</td>\n",
       "      <td>NaN</td>\n",
       "      <td>0</td>\n",
       "      <td>0</td>\n",
       "      <td>2017-01</td>\n",
       "    </tr>\n",
       "  </tbody>\n",
       "</table>\n",
       "<p>2702095 rows × 7 columns</p>\n",
       "</div>"
      ],
      "text/plain": [
       "         listing_id        date available price  t  boston? year_month\n",
       "0          12147973  2017-09-05         f   NaN  0        1    2017-09\n",
       "1          12147973  2017-09-04         f   NaN  0        1    2017-09\n",
       "2          12147973  2017-09-03         f   NaN  0        1    2017-09\n",
       "3          12147973  2017-09-02         f   NaN  0        1    2017-09\n",
       "4          12147973  2017-09-01         f   NaN  0        1    2017-09\n",
       "...             ...         ...       ...   ... ..      ...        ...\n",
       "1393565    10208623  2016-12-29         f   NaN  0        0    2016-12\n",
       "1393566    10208623  2016-12-30         f   NaN  0        0    2016-12\n",
       "1393567    10208623  2016-12-31         f   NaN  0        0    2016-12\n",
       "1393568    10208623  2017-01-01         f   NaN  0        0    2017-01\n",
       "1393569    10208623  2017-01-02         f   NaN  0        0    2017-01\n",
       "\n",
       "[2702095 rows x 7 columns]"
      ]
     },
     "execution_count": 88,
     "metadata": {},
     "output_type": "execute_result"
    }
   ],
   "source": [
    "df_calendar_dummy"
   ]
  },
  {
   "cell_type": "code",
   "execution_count": 89,
   "metadata": {},
   "outputs": [
    {
     "data": {
      "text/plain": [
       "0"
      ]
     },
     "execution_count": 89,
     "metadata": {},
     "output_type": "execute_result"
    }
   ],
   "source": [
    "# check if there are any missing prices for available dates\n",
    "df_calendar_dummy['t'].isnull().sum()"
   ]
  },
  {
   "cell_type": "markdown",
   "metadata": {},
   "source": [
    "Good, there are no missing values. We can plot the histogram and to see if there are any seasonality effects that we can see"
   ]
  },
  {
   "cell_type": "markdown",
   "metadata": {},
   "source": [
    "## Checking for patterns / seasonality"
   ]
  },
  {
   "cell_type": "code",
   "execution_count": 90,
   "metadata": {
    "scrolled": true
   },
   "outputs": [
    {
     "data": {
      "image/png": "[encoded data removed]",
      "text/plain": [
       "<Figure size 432x288 with 1 Axes>"
      ]
     },
     "metadata": {
      "needs_background": "light"
     },
     "output_type": "display_data"
    }
   ],
   "source": [
    "# let's plot a histogram showing a number of bookings over time (per month)\n",
    "number_of_bookings = df_calendar_dummy[df_calendar_dummy['available']=='t'][['year_month', 'available']].groupby('year_month').count()['available']\n",
    "dates_price = df_calendar_dummy[df_calendar_dummy['available']=='t'][['year_month', 'available']].groupby('year_month').count().index\n",
    "plt.bar(dates_price, number_of_bookings)\n",
    "plt.xticks(rotation=90)\n",
    "plt.show()"
   ]
  },
  {
   "cell_type": "markdown",
   "metadata": {},
   "source": [
    "Graph shows there are significantly more bookings during the months of October, November and December. Let's check how histogram looks for the two cities separately to analyze this further."
   ]
  },
  {
   "cell_type": "code",
   "execution_count": 91,
   "metadata": {},
   "outputs": [
    {
     "data": {
      "text/plain": [
       "<matplotlib.axes._subplots.AxesSubplot at 0x1f4cdb522c8>"
      ]
     },
     "execution_count": 91,
     "metadata": {},
     "output_type": "execute_result"
    },
    {
     "data": {
      "image/png": "[encoded data removed]",
      "text/plain": [
       "<Figure size 432x288 with 1 Axes>"
      ]
     },
     "metadata": {
      "needs_background": "light"
     },
     "output_type": "display_data"
    }
   ],
   "source": [
    "df_calendar_dummy.groupby(['year_month', 'boston?'])['t'].sum().unstack().plot.bar()"
   ]
  },
  {
   "cell_type": "code",
   "execution_count": 92,
   "metadata": {},
   "outputs": [
    {
     "data": {
      "text/plain": [
       "array(['2017-09-05', '2017-09-04', '2017-09-03', '2017-09-02',\n",
       "       '2017-09-01'], dtype=object)"
      ]
     },
     "execution_count": 92,
     "metadata": {},
     "output_type": "execute_result"
    }
   ],
   "source": [
    "df_calendar_dummy[(df_calendar_dummy['boston?']==1) & (df_calendar_dummy['year_month']=='2017-09')]['date'].unique()"
   ]
  },
  {
   "cell_type": "markdown",
   "metadata": {},
   "source": [
    "It turns out combined histogram was missleading: there are only 5 days for September 2017 and the dates that showed the most available apartments were the days that overlapped bet. <br><br>\n",
    "To see which of the cities is most popular (i.e. has less available apartments), let's rather take a look at the % of available apartments for each of the months."
   ]
  },
  {
   "cell_type": "code",
   "execution_count": 93,
   "metadata": {},
   "outputs": [
    {
     "data": {
      "image/png": "[encoded data removed]",
      "text/plain": [
       "<Figure size 432x288 with 2 Axes>"
      ]
     },
     "metadata": {
      "needs_background": "light"
     },
     "output_type": "display_data"
    }
   ],
   "source": [
    "# plot occupancy rate for both cities\n",
    "occupied_boston = df_calendar_dummy[(df_calendar_dummy['available']=='t') & (df_calendar_dummy['boston?']==1)][['year_month', 't']].groupby('year_month').sum()['t'] / df_calendar_dummy[df_calendar_dummy['boston?']==1].groupby('year_month').count()['boston?']\n",
    "dates_boston = df_calendar_dummy[(df_calendar_dummy['available']=='t') & (df_calendar_dummy['boston?']==1)][['year_month', 't']].groupby('year_month').sum().index\n",
    "plt.subplot(1,2,1)\n",
    "plt.title('Boston')\n",
    "plt.bar(dates_boston, occupied_boston)\n",
    "plt.xticks(rotation=90)\n",
    "occupied_seattle = df_calendar_dummy[(df_calendar_dummy['available']=='t') & (df_calendar_dummy['boston?']==0)][['year_month', 't']].groupby('year_month').sum()['t'] / df_calendar_dummy[df_calendar_dummy['boston?']==0].groupby('year_month').count()['boston?']\n",
    "dates_seattle = df_calendar_dummy[(df_calendar_dummy['available']=='t') & (df_calendar_dummy['boston?']==0)][['year_month', 't']].groupby('year_month').sum().index\n",
    "plt.subplot(1,2,2)\n",
    "plt.title('Seattle')\n",
    "plt.bar(dates_seattle, occupied_seattle)\n",
    "plt.xticks(rotation=90)\n",
    "plt.show()"
   ]
  },
  {
   "cell_type": "markdown",
   "metadata": {},
   "source": [
    "Boston looks to be more popular city for AirBnB visitors as there are on average ~50% apartments available whereas in Seattle there are ~70%."
   ]
  },
  {
   "cell_type": "markdown",
   "metadata": {},
   "source": [
    "## Average price"
   ]
  },
  {
   "cell_type": "code",
   "execution_count": 94,
   "metadata": {},
   "outputs": [
    {
     "data": {
      "text/plain": [
       "listing_id     int64\n",
       "date          object\n",
       "available     object\n",
       "price         object\n",
       "t              uint8\n",
       "boston?        int64\n",
       "year_month    object\n",
       "dtype: object"
      ]
     },
     "execution_count": 94,
     "metadata": {},
     "output_type": "execute_result"
    }
   ],
   "source": [
    "# let's check datatypes to see why that is\n",
    "df_calendar_dummy.dtypes"
   ]
  },
  {
   "cell_type": "code",
   "execution_count": 95,
   "metadata": {
    "scrolled": true
   },
   "outputs": [
    {
     "data": {
      "text/plain": [
       "365        $65.00\n",
       "366        $65.00\n",
       "367        $65.00\n",
       "368        $75.00\n",
       "369        $75.00\n",
       "            ...  \n",
       "1393207    $87.00\n",
       "1393208    $87.00\n",
       "1393211    $87.00\n",
       "1393212    $87.00\n",
       "1393213    $87.00\n",
       "Name: price, Length: 1577499, dtype: object"
      ]
     },
     "execution_count": 95,
     "metadata": {},
     "output_type": "execute_result"
    }
   ],
   "source": [
    "# price is an object because it has a dollar sign assigned\n",
    "df_calendar_dummy[df_calendar_dummy['available']=='t']['price']"
   ]
  },
  {
   "cell_type": "markdown",
   "metadata": {},
   "source": [
    "Let's write a function that removes dollar sign (if value is a string). Here I helped myself with an existing blog post [here](https://pbpython.com/currency-cleanup.html)"
   ]
  },
  {
   "cell_type": "code",
   "execution_count": 96,
   "metadata": {},
   "outputs": [],
   "source": [
    "def remove_currency_sign(x):\n",
    "    # input to the function can be any variable\n",
    "    # if the input is a string then the function removes the $ and , signs and returns the new value. Otherwise output = input\n",
    "    # it will be used to create numeric values  from strngs so that we can perform analysis\n",
    "    if isinstance(x, str):\n",
    "        return x.replace('$','').replace(',','')"
   ]
  },
  {
   "cell_type": "code",
   "execution_count": 97,
   "metadata": {},
   "outputs": [],
   "source": [
    "# let's apply this function to the price column and convert it to float\n",
    "df_calendar_dummy['price'] = df_calendar_dummy['price'].apply(remove_currency_sign).astype('float')"
   ]
  },
  {
   "cell_type": "code",
   "execution_count": 98,
   "metadata": {},
   "outputs": [
    {
     "data": {
      "image/png": "[encoded data removed]",
      "text/plain": [
       "<Figure size 432x288 with 1 Axes>"
      ]
     },
     "metadata": {
      "needs_background": "light"
     },
     "output_type": "display_data"
    }
   ],
   "source": [
    "# bar chart for the average price\n",
    "average_price = df_calendar_dummy[df_calendar_dummy['available']=='t'][['year_month', 'price']].groupby('year_month').mean()['price']\n",
    "dates_price = df_calendar_dummy[df_calendar_dummy['available']=='t'][['year_month', 'price']].groupby('year_month').mean().index\n",
    "plt.bar(dates_price, average_price)\n",
    "plt.xticks(rotation=90)\n",
    "plt.show()"
   ]
  },
  {
   "cell_type": "markdown",
   "metadata": {},
   "source": [
    "Similar to above let's check side by side if the average price differs between the two cities"
   ]
  },
  {
   "cell_type": "code",
   "execution_count": 99,
   "metadata": {},
   "outputs": [
    {
     "data": {
      "image/png": "[encoded data removed]",
      "text/plain": [
       "<Figure size 432x288 with 2 Axes>"
      ]
     },
     "metadata": {
      "needs_background": "light"
     },
     "output_type": "display_data"
    }
   ],
   "source": [
    "# plot average prices for both cities\n",
    "occupied_boston = df_calendar_dummy[(df_calendar_dummy['available']=='t') & (df_calendar_dummy['boston?']==1)][['year_month', 'price']].groupby('year_month').mean()['price']\n",
    "dates_boston = df_calendar_dummy[(df_calendar_dummy['available']=='t') & (df_calendar_dummy['boston?']==1)][['year_month', 'price']].groupby('year_month').mean().index\n",
    "plt.subplot(1,2,1)\n",
    "plt.title('Boston')\n",
    "plt.bar(dates_boston, occupied_boston)\n",
    "plt.xticks(rotation=90)\n",
    "occupied_seattle = df_calendar_dummy[(df_calendar_dummy['available']=='t') & (df_calendar_dummy['boston?']==0)][['year_month', 'price']].groupby('year_month').mean()['price']\n",
    "dates_seattle = df_calendar_dummy[(df_calendar_dummy['available']=='t') & (df_calendar_dummy['boston?']==0)][['year_month', 'price']].groupby('year_month').mean().index\n",
    "plt.subplot(1,2,2)\n",
    "plt.title('Seattle')\n",
    "plt.bar(dates_seattle, occupied_seattle)\n",
    "plt.xticks(rotation=90)\n",
    "plt.show()"
   ]
  },
  {
   "cell_type": "markdown",
   "metadata": {},
   "source": [
    "On average price for an AirBnB booking in Bostong is significantly higher than in Seattle (roughly 40%). There are likely various factors affecting it, one of them most probably being that Boston is more well known abroad and as such more popular tourist destnation."
   ]
  },
  {
   "cell_type": "markdown",
   "metadata": {},
   "source": [
    "## Number of bookings and price trends"
   ]
  },
  {
   "cell_type": "markdown",
   "metadata": {},
   "source": [
    "Overall trends for Boston"
   ]
  },
  {
   "cell_type": "code",
   "execution_count": 100,
   "metadata": {
    "scrolled": true
   },
   "outputs": [
    {
     "data": {
      "image/png": "[encoded data removed]",
      "text/plain": [
       "<Figure size 432x288 with 2 Axes>"
      ]
     },
     "metadata": {
      "needs_background": "light"
     },
     "output_type": "display_data"
    }
   ],
   "source": [
    "df_calendar_trend_booking = df_calendar_dummy[(df_calendar_dummy['available']=='t') & (df_calendar_dummy['boston?']==1)].groupby('date').count()['t'] / df_calendar_dummy[df_calendar_dummy['boston?']==1].groupby('date').count()['t']\n",
    "dates_booking = df_calendar_trend_booking.index\n",
    "booking = df_calendar_trend_booking\n",
    "plt.subplot(1,2,1)\n",
    "plt.title('% available Apartments')\n",
    "plt.plot(dates_booking, booking)\n",
    "plt.gca().axes.xaxis.set_visible(False)\n",
    "df_calendar_trend_price = df_calendar_dummy[(df_calendar_dummy['available']=='t') & (df_calendar_dummy['boston?']==1)].groupby('date').mean()\n",
    "dates_price = df_calendar_trend_price.index\n",
    "prices = df_calendar_trend_price['price']\n",
    "plt.subplot(1,2,2)\n",
    "plt.title('Average Price')\n",
    "plt.plot(dates_price, prices)\n",
    "plt.gca().axes.xaxis.set_visible(False)\n",
    "plt.show()"
   ]
  },
  {
   "cell_type": "markdown",
   "metadata": {},
   "source": [
    "Overall trends for Seattle"
   ]
  },
  {
   "cell_type": "code",
   "execution_count": 101,
   "metadata": {
    "scrolled": false
   },
   "outputs": [
    {
     "data": {
      "image/png": "[encoded data removed]",
      "text/plain": [
       "<Figure size 432x288 with 2 Axes>"
      ]
     },
     "metadata": {
      "needs_background": "light"
     },
     "output_type": "display_data"
    }
   ],
   "source": [
    "df_calendar_trend_booking = df_calendar_dummy[(df_calendar_dummy['available']=='t') & (df_calendar_dummy['boston?']==0)].groupby('date').count()['t'] / df_calendar_dummy[df_calendar_dummy['boston?']==0].groupby('date').count()['t']\n",
    "dates_booking = df_calendar_trend_booking.index\n",
    "booking = df_calendar_trend_booking\n",
    "plt.subplot(1,2,1)\n",
    "plt.title('% available Apartments')\n",
    "plt.plot(dates_booking, booking)\n",
    "plt.gca().axes.xaxis.set_visible(False)\n",
    "df_calendar_trend_price = df_calendar_dummy[(df_calendar_dummy['available']=='t') & (df_calendar_dummy['boston?']==0)].groupby('date').mean()\n",
    "dates_price = df_calendar_trend_price.index\n",
    "prices = df_calendar_trend_price['price']\n",
    "plt.subplot(1,2,2)\n",
    "plt.title('Average Price')\n",
    "plt.plot(dates_price, prices)\n",
    "plt.gca().axes.xaxis.set_visible(False)\n",
    "plt.show()"
   ]
  },
  {
   "cell_type": "markdown",
   "metadata": {},
   "source": [
    "Combined trends"
   ]
  },
  {
   "cell_type": "code",
   "execution_count": 102,
   "metadata": {
    "scrolled": true
   },
   "outputs": [
    {
     "data": {
      "image/png": "[encoded data removed]",
      "text/plain": [
       "<Figure size 432x288 with 2 Axes>"
      ]
     },
     "metadata": {
      "needs_background": "light"
     },
     "output_type": "display_data"
    }
   ],
   "source": [
    "df_calendar_trend_booking = df_calendar_dummy[(df_calendar_dummy['available']=='t')].groupby('date').count()['t'] / df_calendar_dummy.groupby('date').count()['t']\n",
    "dates_booking = df_calendar_trend_booking.index\n",
    "booking = df_calendar_trend_booking\n",
    "plt.subplot(1,2,1)\n",
    "plt.title('% available Apartments')\n",
    "plt.plot(dates_booking, booking)\n",
    "plt.gca().axes.xaxis.set_visible(False)\n",
    "df_calendar_trend_price = df_calendar_dummy[(df_calendar_dummy['available']=='t')].groupby('date').mean()\n",
    "dates_price = df_calendar_trend_price.index\n",
    "prices = df_calendar_trend_price['price']\n",
    "plt.subplot(1,2,2)\n",
    "plt.title('Average Price')\n",
    "plt.plot(dates_price, prices)\n",
    "plt.gca().axes.xaxis.set_visible(False)\n",
    "plt.show()"
   ]
  },
  {
   "cell_type": "markdown",
   "metadata": {},
   "source": [
    "Boston data is more in line what we'd expect, meaning higher occupancy rate/demand means higher prices. However overall the trend for both cities is still there. <br><br>\n",
    "Therefore we can go now  a step further and create a simple linear regression model where we try to predict the average price for a booking given the occupancy rate and which city the apartment is located in. <br><br>"
   ]
  },
  {
   "cell_type": "markdown",
   "metadata": {},
   "source": [
    "## Regression "
   ]
  },
  {
   "cell_type": "code",
   "execution_count": 103,
   "metadata": {},
   "outputs": [],
   "source": [
    "# import necessary packages for the linear regression and interpretation of the results\n",
    "from sklearn.linear_model import LinearRegression\n",
    "from sklearn.model_selection import train_test_split\n",
    "from sklearn.metrics import r2_score, mean_squared_error\n",
    "from statsmodels.tsa.stattools import adfuller"
   ]
  },
  {
   "cell_type": "markdown",
   "metadata": {},
   "source": [
    "Let's create a new dataset that will store the average price for a given day."
   ]
  },
  {
   "cell_type": "code",
   "execution_count": 104,
   "metadata": {},
   "outputs": [
    {
     "data": {
      "text/html": [
       "<div>\n",
       "<style scoped>\n",
       "    .dataframe tbody tr th:only-of-type {\n",
       "        vertical-align: middle;\n",
       "    }\n",
       "\n",
       "    .dataframe tbody tr th {\n",
       "        vertical-align: top;\n",
       "    }\n",
       "\n",
       "    .dataframe thead th {\n",
       "        text-align: right;\n",
       "    }\n",
       "</style>\n",
       "<table border=\"1\" class=\"dataframe\">\n",
       "  <thead>\n",
       "    <tr style=\"text-align: right;\">\n",
       "      <th></th>\n",
       "      <th>average_price</th>\n",
       "    </tr>\n",
       "    <tr>\n",
       "      <th>date</th>\n",
       "      <th></th>\n",
       "    </tr>\n",
       "  </thead>\n",
       "  <tbody>\n",
       "    <tr>\n",
       "      <th>2016-01-04</th>\n",
       "      <td>122.085879</td>\n",
       "    </tr>\n",
       "    <tr>\n",
       "      <th>2016-01-05</th>\n",
       "      <td>120.681307</td>\n",
       "    </tr>\n",
       "    <tr>\n",
       "      <th>2016-01-06</th>\n",
       "      <td>120.928258</td>\n",
       "    </tr>\n",
       "    <tr>\n",
       "      <th>2016-01-07</th>\n",
       "      <td>120.958896</td>\n",
       "    </tr>\n",
       "    <tr>\n",
       "      <th>2016-01-08</th>\n",
       "      <td>127.640853</td>\n",
       "    </tr>\n",
       "    <tr>\n",
       "      <th>...</th>\n",
       "      <td>...</td>\n",
       "    </tr>\n",
       "    <tr>\n",
       "      <th>2017-09-01</th>\n",
       "      <td>202.046797</td>\n",
       "    </tr>\n",
       "    <tr>\n",
       "      <th>2017-09-02</th>\n",
       "      <td>197.997775</td>\n",
       "    </tr>\n",
       "    <tr>\n",
       "      <th>2017-09-03</th>\n",
       "      <td>192.566038</td>\n",
       "    </tr>\n",
       "    <tr>\n",
       "      <th>2017-09-04</th>\n",
       "      <td>189.907829</td>\n",
       "    </tr>\n",
       "    <tr>\n",
       "      <th>2017-09-05</th>\n",
       "      <td>190.804553</td>\n",
       "    </tr>\n",
       "  </tbody>\n",
       "</table>\n",
       "<p>611 rows × 1 columns</p>\n",
       "</div>"
      ],
      "text/plain": [
       "            average_price\n",
       "date                     \n",
       "2016-01-04     122.085879\n",
       "2016-01-05     120.681307\n",
       "2016-01-06     120.928258\n",
       "2016-01-07     120.958896\n",
       "2016-01-08     127.640853\n",
       "...                   ...\n",
       "2017-09-01     202.046797\n",
       "2017-09-02     197.997775\n",
       "2017-09-03     192.566038\n",
       "2017-09-04     189.907829\n",
       "2017-09-05     190.804553\n",
       "\n",
       "[611 rows x 1 columns]"
      ]
     },
     "execution_count": 104,
     "metadata": {},
     "output_type": "execute_result"
    }
   ],
   "source": [
    "# create a new dataset that stores the average price by date\n",
    "df_calendar_regression = df_calendar_dummy[df_calendar_dummy['t']==1][['date', 'price']].groupby(['date']).mean()\n",
    "df_calendar_regression = df_calendar_regression.rename(columns={\"price\":\"average_price\"})\n",
    "df_calendar_regression"
   ]
  },
  {
   "cell_type": "code",
   "execution_count": 105,
   "metadata": {},
   "outputs": [],
   "source": [
    "# add a column that stores the occupancy rate by date\n",
    "df_calendar_regression = df_calendar_regression.join( 1 - df_calendar_dummy[df_calendar_dummy['t']==1][['date', 't']].groupby(['date']).sum()['t'] / df_calendar_dummy[['date', 't']].groupby(['date']).count()['t'])\n",
    "df_calendar_regression = df_calendar_regression.rename(columns={\"t\":\"occupancy_rate\"})\n",
    "df_calendar_regression = df_calendar_regression.reset_index()"
   ]
  },
  {
   "cell_type": "code",
   "execution_count": 106,
   "metadata": {
    "scrolled": true
   },
   "outputs": [
    {
     "data": {
      "text/html": [
       "<div>\n",
       "<style scoped>\n",
       "    .dataframe tbody tr th:only-of-type {\n",
       "        vertical-align: middle;\n",
       "    }\n",
       "\n",
       "    .dataframe tbody tr th {\n",
       "        vertical-align: top;\n",
       "    }\n",
       "\n",
       "    .dataframe thead th {\n",
       "        text-align: right;\n",
       "    }\n",
       "</style>\n",
       "<table border=\"1\" class=\"dataframe\">\n",
       "  <thead>\n",
       "    <tr style=\"text-align: right;\">\n",
       "      <th></th>\n",
       "      <th>date</th>\n",
       "      <th>average_price</th>\n",
       "      <th>occupancy_rate</th>\n",
       "    </tr>\n",
       "  </thead>\n",
       "  <tbody>\n",
       "    <tr>\n",
       "      <th>0</th>\n",
       "      <td>2016-01-04</td>\n",
       "      <td>122.085879</td>\n",
       "      <td>0.545574</td>\n",
       "    </tr>\n",
       "    <tr>\n",
       "      <th>1</th>\n",
       "      <td>2016-01-05</td>\n",
       "      <td>120.681307</td>\n",
       "      <td>0.511001</td>\n",
       "    </tr>\n",
       "    <tr>\n",
       "      <th>2</th>\n",
       "      <td>2016-01-06</td>\n",
       "      <td>120.928258</td>\n",
       "      <td>0.521739</td>\n",
       "    </tr>\n",
       "    <tr>\n",
       "      <th>3</th>\n",
       "      <td>2016-01-07</td>\n",
       "      <td>120.958896</td>\n",
       "      <td>0.534835</td>\n",
       "    </tr>\n",
       "    <tr>\n",
       "      <th>4</th>\n",
       "      <td>2016-01-08</td>\n",
       "      <td>127.640853</td>\n",
       "      <td>0.533263</td>\n",
       "    </tr>\n",
       "    <tr>\n",
       "      <th>...</th>\n",
       "      <td>...</td>\n",
       "      <td>...</td>\n",
       "      <td>...</td>\n",
       "    </tr>\n",
       "    <tr>\n",
       "      <th>606</th>\n",
       "      <td>2017-09-01</td>\n",
       "      <td>202.046797</td>\n",
       "      <td>0.499303</td>\n",
       "    </tr>\n",
       "    <tr>\n",
       "      <th>607</th>\n",
       "      <td>2017-09-02</td>\n",
       "      <td>197.997775</td>\n",
       "      <td>0.498466</td>\n",
       "    </tr>\n",
       "    <tr>\n",
       "      <th>608</th>\n",
       "      <td>2017-09-03</td>\n",
       "      <td>192.566038</td>\n",
       "      <td>0.497350</td>\n",
       "    </tr>\n",
       "    <tr>\n",
       "      <th>609</th>\n",
       "      <td>2017-09-04</td>\n",
       "      <td>189.907829</td>\n",
       "      <td>0.497629</td>\n",
       "    </tr>\n",
       "    <tr>\n",
       "      <th>610</th>\n",
       "      <td>2017-09-05</td>\n",
       "      <td>190.804553</td>\n",
       "      <td>0.497629</td>\n",
       "    </tr>\n",
       "  </tbody>\n",
       "</table>\n",
       "<p>611 rows × 3 columns</p>\n",
       "</div>"
      ],
      "text/plain": [
       "           date  average_price  occupancy_rate\n",
       "0    2016-01-04     122.085879        0.545574\n",
       "1    2016-01-05     120.681307        0.511001\n",
       "2    2016-01-06     120.928258        0.521739\n",
       "3    2016-01-07     120.958896        0.534835\n",
       "4    2016-01-08     127.640853        0.533263\n",
       "..          ...            ...             ...\n",
       "606  2017-09-01     202.046797        0.499303\n",
       "607  2017-09-02     197.997775        0.498466\n",
       "608  2017-09-03     192.566038        0.497350\n",
       "609  2017-09-04     189.907829        0.497629\n",
       "610  2017-09-05     190.804553        0.497629\n",
       "\n",
       "[611 rows x 3 columns]"
      ]
     },
     "execution_count": 106,
     "metadata": {},
     "output_type": "execute_result"
    }
   ],
   "source": [
    "# check to see hwo the new dataframe looks like\n",
    "df_calendar_regression"
   ]
  },
  {
   "cell_type": "markdown",
   "metadata": {},
   "source": [
    "Looks good! Let's use 'occupancy_rate' to see if we can predict average price for a CoB "
   ]
  },
  {
   "cell_type": "code",
   "execution_count": 107,
   "metadata": {
    "scrolled": true
   },
   "outputs": [],
   "source": [
    "# prepare data for the linear regression by create matrix for independent variables X and a vector y for dependent variable\n",
    "X = df_calendar_regression[['occupancy_rate']]\n",
    "y = df_calendar_regression[['average_price']]\n",
    "# split the data into train and test set\n",
    "X_train, X_test, y_train, y_test = train_test_split(X, y, test_size = .30, random_state=42) \n",
    "\n",
    "# run a linear regression model\n",
    "lm_model = LinearRegression(normalize=True) # Instantiate\n",
    "lm_model.fit(X_train, y_train) #Fit\n",
    "        \n",
    "#Predict and score the model\n",
    "y_test_preds = lm_model.predict(X_test) "
   ]
  },
  {
   "cell_type": "code",
   "execution_count": 108,
   "metadata": {
    "scrolled": true
   },
   "outputs": [
    {
     "data": {
      "text/plain": [
       "'The r-squared score for the model was 0.60 on 184 values.'"
      ]
     },
     "execution_count": 108,
     "metadata": {},
     "output_type": "execute_result"
    }
   ],
   "source": [
    "\"The r-squared score for the model was {:.2f} on {} values.\".format(r2_score(y_test, y_test_preds), len(y_test))"
   ]
  },
  {
   "cell_type": "code",
   "execution_count": 109,
   "metadata": {
    "scrolled": true
   },
   "outputs": [
    {
     "data": {
      "text/plain": [
       "Text(0, 0.5, 'Average Price')"
      ]
     },
     "execution_count": 109,
     "metadata": {},
     "output_type": "execute_result"
    },
    {
     "data": {
      "image/png": "[encoded data removed]",
      "text/plain": [
       "<Figure size 432x288 with 1 Axes>"
      ]
     },
     "metadata": {
      "needs_background": "light"
     },
     "output_type": "display_data"
    }
   ],
   "source": [
    "# plotting regression line\n",
    "plt.scatter(X_test, y_test,  color='blue')\n",
    "plt.plot(X_test, y_test_preds, color='orange', linewidth=2)\n",
    "plt.xlabel('% of available apartments')\n",
    "plt.ylabel('Average Price')"
   ]
  },
  {
   "cell_type": "markdown",
   "metadata": {},
   "source": [
    "Next let's check if adding a dummy variable 'boston?' helps with the prediciton. Given that Seattle exhibits a bit of a different trend compared to Boston, my expectation is that this should improve the prediciton."
   ]
  },
  {
   "cell_type": "code",
   "execution_count": 110,
   "metadata": {},
   "outputs": [
    {
     "data": {
      "text/html": [
       "<div>\n",
       "<style scoped>\n",
       "    .dataframe tbody tr th:only-of-type {\n",
       "        vertical-align: middle;\n",
       "    }\n",
       "\n",
       "    .dataframe tbody tr th {\n",
       "        vertical-align: top;\n",
       "    }\n",
       "\n",
       "    .dataframe thead th {\n",
       "        text-align: right;\n",
       "    }\n",
       "</style>\n",
       "<table border=\"1\" class=\"dataframe\">\n",
       "  <thead>\n",
       "    <tr style=\"text-align: right;\">\n",
       "      <th></th>\n",
       "      <th></th>\n",
       "      <th>average_price</th>\n",
       "    </tr>\n",
       "    <tr>\n",
       "      <th>date</th>\n",
       "      <th>boston?</th>\n",
       "      <th></th>\n",
       "    </tr>\n",
       "  </thead>\n",
       "  <tbody>\n",
       "    <tr>\n",
       "      <th>2016-01-04</th>\n",
       "      <th>0</th>\n",
       "      <td>122.085879</td>\n",
       "    </tr>\n",
       "    <tr>\n",
       "      <th>2016-01-05</th>\n",
       "      <th>0</th>\n",
       "      <td>120.681307</td>\n",
       "    </tr>\n",
       "    <tr>\n",
       "      <th>2016-01-06</th>\n",
       "      <th>0</th>\n",
       "      <td>120.928258</td>\n",
       "    </tr>\n",
       "    <tr>\n",
       "      <th>2016-01-07</th>\n",
       "      <th>0</th>\n",
       "      <td>120.958896</td>\n",
       "    </tr>\n",
       "    <tr>\n",
       "      <th>2016-01-08</th>\n",
       "      <th>0</th>\n",
       "      <td>127.640853</td>\n",
       "    </tr>\n",
       "    <tr>\n",
       "      <th>...</th>\n",
       "      <th>...</th>\n",
       "      <td>...</td>\n",
       "    </tr>\n",
       "    <tr>\n",
       "      <th>2017-09-01</th>\n",
       "      <th>1</th>\n",
       "      <td>202.046797</td>\n",
       "    </tr>\n",
       "    <tr>\n",
       "      <th>2017-09-02</th>\n",
       "      <th>1</th>\n",
       "      <td>197.997775</td>\n",
       "    </tr>\n",
       "    <tr>\n",
       "      <th>2017-09-03</th>\n",
       "      <th>1</th>\n",
       "      <td>192.566038</td>\n",
       "    </tr>\n",
       "    <tr>\n",
       "      <th>2017-09-04</th>\n",
       "      <th>1</th>\n",
       "      <td>189.907829</td>\n",
       "    </tr>\n",
       "    <tr>\n",
       "      <th>2017-09-05</th>\n",
       "      <th>1</th>\n",
       "      <td>190.804553</td>\n",
       "    </tr>\n",
       "  </tbody>\n",
       "</table>\n",
       "<p>730 rows × 1 columns</p>\n",
       "</div>"
      ],
      "text/plain": [
       "                    average_price\n",
       "date       boston?               \n",
       "2016-01-04 0           122.085879\n",
       "2016-01-05 0           120.681307\n",
       "2016-01-06 0           120.928258\n",
       "2016-01-07 0           120.958896\n",
       "2016-01-08 0           127.640853\n",
       "...                           ...\n",
       "2017-09-01 1           202.046797\n",
       "2017-09-02 1           197.997775\n",
       "2017-09-03 1           192.566038\n",
       "2017-09-04 1           189.907829\n",
       "2017-09-05 1           190.804553\n",
       "\n",
       "[730 rows x 1 columns]"
      ]
     },
     "execution_count": 110,
     "metadata": {},
     "output_type": "execute_result"
    }
   ],
   "source": [
    "# create a new dataset that stores the average price by date\n",
    "df_calendar_regression = df_calendar_dummy[df_calendar_dummy['t']==1][['date', 'price', 'boston?']].groupby(['date', 'boston?']).mean()\n",
    "df_calendar_regression = df_calendar_regression.rename(columns={\"price\":\"average_price\"})\n",
    "df_calendar_regression"
   ]
  },
  {
   "cell_type": "code",
   "execution_count": 111,
   "metadata": {
    "scrolled": true
   },
   "outputs": [],
   "source": [
    "# add a column that stores the occupancy rate by date\n",
    "df_calendar_regression = df_calendar_regression.join( 1 - df_calendar_dummy[df_calendar_dummy['t']==1][['date', 't', 'boston?']].groupby(['date', 'boston?']).sum()['t'] / df_calendar_dummy[['date', 't', 'boston?']].groupby(['date', 'boston?']).count()['t'])\n",
    "df_calendar_regression = df_calendar_regression.rename(columns={\"t\":\"occupancy_rate\"})\n",
    "df_calendar_regression = df_calendar_regression.reset_index()"
   ]
  },
  {
   "cell_type": "code",
   "execution_count": 112,
   "metadata": {
    "scrolled": true
   },
   "outputs": [
    {
     "data": {
      "text/html": [
       "<div>\n",
       "<style scoped>\n",
       "    .dataframe tbody tr th:only-of-type {\n",
       "        vertical-align: middle;\n",
       "    }\n",
       "\n",
       "    .dataframe tbody tr th {\n",
       "        vertical-align: top;\n",
       "    }\n",
       "\n",
       "    .dataframe thead th {\n",
       "        text-align: right;\n",
       "    }\n",
       "</style>\n",
       "<table border=\"1\" class=\"dataframe\">\n",
       "  <thead>\n",
       "    <tr style=\"text-align: right;\">\n",
       "      <th></th>\n",
       "      <th>date</th>\n",
       "      <th>boston?</th>\n",
       "      <th>average_price</th>\n",
       "      <th>occupancy_rate</th>\n",
       "    </tr>\n",
       "  </thead>\n",
       "  <tbody>\n",
       "    <tr>\n",
       "      <th>0</th>\n",
       "      <td>2016-01-04</td>\n",
       "      <td>0</td>\n",
       "      <td>122.085879</td>\n",
       "      <td>0.545574</td>\n",
       "    </tr>\n",
       "    <tr>\n",
       "      <th>1</th>\n",
       "      <td>2016-01-05</td>\n",
       "      <td>0</td>\n",
       "      <td>120.681307</td>\n",
       "      <td>0.511001</td>\n",
       "    </tr>\n",
       "    <tr>\n",
       "      <th>2</th>\n",
       "      <td>2016-01-06</td>\n",
       "      <td>0</td>\n",
       "      <td>120.928258</td>\n",
       "      <td>0.521739</td>\n",
       "    </tr>\n",
       "    <tr>\n",
       "      <th>3</th>\n",
       "      <td>2016-01-07</td>\n",
       "      <td>0</td>\n",
       "      <td>120.958896</td>\n",
       "      <td>0.534835</td>\n",
       "    </tr>\n",
       "    <tr>\n",
       "      <th>4</th>\n",
       "      <td>2016-01-08</td>\n",
       "      <td>0</td>\n",
       "      <td>127.640853</td>\n",
       "      <td>0.533263</td>\n",
       "    </tr>\n",
       "    <tr>\n",
       "      <th>...</th>\n",
       "      <td>...</td>\n",
       "      <td>...</td>\n",
       "      <td>...</td>\n",
       "      <td>...</td>\n",
       "    </tr>\n",
       "    <tr>\n",
       "      <th>725</th>\n",
       "      <td>2017-09-01</td>\n",
       "      <td>1</td>\n",
       "      <td>202.046797</td>\n",
       "      <td>0.499303</td>\n",
       "    </tr>\n",
       "    <tr>\n",
       "      <th>726</th>\n",
       "      <td>2017-09-02</td>\n",
       "      <td>1</td>\n",
       "      <td>197.997775</td>\n",
       "      <td>0.498466</td>\n",
       "    </tr>\n",
       "    <tr>\n",
       "      <th>727</th>\n",
       "      <td>2017-09-03</td>\n",
       "      <td>1</td>\n",
       "      <td>192.566038</td>\n",
       "      <td>0.497350</td>\n",
       "    </tr>\n",
       "    <tr>\n",
       "      <th>728</th>\n",
       "      <td>2017-09-04</td>\n",
       "      <td>1</td>\n",
       "      <td>189.907829</td>\n",
       "      <td>0.497629</td>\n",
       "    </tr>\n",
       "    <tr>\n",
       "      <th>729</th>\n",
       "      <td>2017-09-05</td>\n",
       "      <td>1</td>\n",
       "      <td>190.804553</td>\n",
       "      <td>0.497629</td>\n",
       "    </tr>\n",
       "  </tbody>\n",
       "</table>\n",
       "<p>730 rows × 4 columns</p>\n",
       "</div>"
      ],
      "text/plain": [
       "           date  boston?  average_price  occupancy_rate\n",
       "0    2016-01-04        0     122.085879        0.545574\n",
       "1    2016-01-05        0     120.681307        0.511001\n",
       "2    2016-01-06        0     120.928258        0.521739\n",
       "3    2016-01-07        0     120.958896        0.534835\n",
       "4    2016-01-08        0     127.640853        0.533263\n",
       "..          ...      ...            ...             ...\n",
       "725  2017-09-01        1     202.046797        0.499303\n",
       "726  2017-09-02        1     197.997775        0.498466\n",
       "727  2017-09-03        1     192.566038        0.497350\n",
       "728  2017-09-04        1     189.907829        0.497629\n",
       "729  2017-09-05        1     190.804553        0.497629\n",
       "\n",
       "[730 rows x 4 columns]"
      ]
     },
     "execution_count": 112,
     "metadata": {},
     "output_type": "execute_result"
    }
   ],
   "source": [
    "# check to see hwo the new dataframe looks like\n",
    "df_calendar_regression"
   ]
  },
  {
   "cell_type": "code",
   "execution_count": 113,
   "metadata": {
    "scrolled": true
   },
   "outputs": [],
   "source": [
    "# prepare data for the linear regression by create matrix for independent variables X and a vector y for dependent variable\n",
    "X = df_calendar_regression[['occupancy_rate', 'boston?']]\n",
    "y = df_calendar_regression[['average_price']]\n",
    "# split the data into train and test set\n",
    "X_train, X_test, y_train, y_test = train_test_split(X, y, test_size = .30, random_state=42) \n",
    "\n",
    "# run a linear regression model\n",
    "lm_model = LinearRegression(normalize=True) # Instantiate\n",
    "lm_model.fit(X_train, y_train) #Fit\n",
    "        \n",
    "#Predict and score the model\n",
    "y_test_preds = lm_model.predict(X_test) "
   ]
  },
  {
   "cell_type": "code",
   "execution_count": 114,
   "metadata": {
    "scrolled": true
   },
   "outputs": [
    {
     "data": {
      "text/plain": [
       "'The r-squared score for the model was 0.89 on 219 values.'"
      ]
     },
     "execution_count": 114,
     "metadata": {},
     "output_type": "execute_result"
    }
   ],
   "source": [
    "\"The r-squared score for the model was {:.2f} on {} values.\".format(r2_score(y_test, y_test_preds), len(y_test))"
   ]
  },
  {
   "cell_type": "markdown",
   "metadata": {},
   "source": [
    "Indeed, as expected, the r2 has improved by 9% when adding 'boston?' variable to our regression.\n",
    "<br><br>\n",
    "However one thing we noticed before during plotting of trend for average price is that it exibits a strong trend. To solve the problem of non-stationairty I helped myself with the blog that can be found [here](https://machinelearningmastery.com/time-series-data-stationary-python/).\n",
    "<br><br>\n",
    "Let's check for stationairty of time series:"
   ]
  },
  {
   "cell_type": "code",
   "execution_count": 115,
   "metadata": {
    "scrolled": false
   },
   "outputs": [
    {
     "name": "stdout",
     "output_type": "stream",
     "text": [
      "ADF Statistic: -1.860216\n",
      "p-value: 0.351002\n",
      "Critical Values:\n",
      "\t1%: -3.440\n",
      "\t5%: -2.866\n",
      "\t10%: -2.569\n"
     ]
    }
   ],
   "source": [
    "# run DF test on y = average_price\n",
    "result = adfuller(df_calendar_regression[['average_price']])\n",
    "print('ADF Statistic: %f' % result[0])\n",
    "print('p-value: %f' % result[1])\n",
    "print('Critical Values:')\n",
    "for key, value in result[4].items():\n",
    "    print('\\t%s: %.3f' % (key, value))"
   ]
  },
  {
   "cell_type": "markdown",
   "metadata": {},
   "source": [
    "P-value is 0.35 and therefore we cannot reject the null hypothesis - we are dealing with non-stationary time series. <br><br>\n",
    "One way to fix this is to take the differences in prices instead"
   ]
  },
  {
   "cell_type": "code",
   "execution_count": 116,
   "metadata": {
    "scrolled": false
   },
   "outputs": [
    {
     "data": {
      "text/html": [
       "<div>\n",
       "<style scoped>\n",
       "    .dataframe tbody tr th:only-of-type {\n",
       "        vertical-align: middle;\n",
       "    }\n",
       "\n",
       "    .dataframe tbody tr th {\n",
       "        vertical-align: top;\n",
       "    }\n",
       "\n",
       "    .dataframe thead th {\n",
       "        text-align: right;\n",
       "    }\n",
       "</style>\n",
       "<table border=\"1\" class=\"dataframe\">\n",
       "  <thead>\n",
       "    <tr style=\"text-align: right;\">\n",
       "      <th></th>\n",
       "      <th>average_price</th>\n",
       "      <th>boston?</th>\n",
       "      <th>occupancy_rate</th>\n",
       "    </tr>\n",
       "  </thead>\n",
       "  <tbody>\n",
       "    <tr>\n",
       "      <th>1</th>\n",
       "      <td>-1.404572</td>\n",
       "      <td>0</td>\n",
       "      <td>0.511001</td>\n",
       "    </tr>\n",
       "    <tr>\n",
       "      <th>2</th>\n",
       "      <td>0.246952</td>\n",
       "      <td>0</td>\n",
       "      <td>0.521739</td>\n",
       "    </tr>\n",
       "    <tr>\n",
       "      <th>3</th>\n",
       "      <td>0.030638</td>\n",
       "      <td>0</td>\n",
       "      <td>0.534835</td>\n",
       "    </tr>\n",
       "    <tr>\n",
       "      <th>4</th>\n",
       "      <td>6.681957</td>\n",
       "      <td>0</td>\n",
       "      <td>0.533263</td>\n",
       "    </tr>\n",
       "    <tr>\n",
       "      <th>5</th>\n",
       "      <td>-0.310034</td>\n",
       "      <td>0</td>\n",
       "      <td>0.513882</td>\n",
       "    </tr>\n",
       "    <tr>\n",
       "      <th>...</th>\n",
       "      <td>...</td>\n",
       "      <td>...</td>\n",
       "      <td>...</td>\n",
       "    </tr>\n",
       "    <tr>\n",
       "      <th>725</th>\n",
       "      <td>1.503113</td>\n",
       "      <td>1</td>\n",
       "      <td>0.499303</td>\n",
       "    </tr>\n",
       "    <tr>\n",
       "      <th>726</th>\n",
       "      <td>-4.049021</td>\n",
       "      <td>1</td>\n",
       "      <td>0.498466</td>\n",
       "    </tr>\n",
       "    <tr>\n",
       "      <th>727</th>\n",
       "      <td>-5.431738</td>\n",
       "      <td>1</td>\n",
       "      <td>0.497350</td>\n",
       "    </tr>\n",
       "    <tr>\n",
       "      <th>728</th>\n",
       "      <td>-2.658209</td>\n",
       "      <td>1</td>\n",
       "      <td>0.497629</td>\n",
       "    </tr>\n",
       "    <tr>\n",
       "      <th>729</th>\n",
       "      <td>0.896724</td>\n",
       "      <td>1</td>\n",
       "      <td>0.497629</td>\n",
       "    </tr>\n",
       "  </tbody>\n",
       "</table>\n",
       "<p>729 rows × 3 columns</p>\n",
       "</div>"
      ],
      "text/plain": [
       "     average_price  boston?  occupancy_rate\n",
       "1        -1.404572        0        0.511001\n",
       "2         0.246952        0        0.521739\n",
       "3         0.030638        0        0.534835\n",
       "4         6.681957        0        0.533263\n",
       "5        -0.310034        0        0.513882\n",
       "..             ...      ...             ...\n",
       "725       1.503113        1        0.499303\n",
       "726      -4.049021        1        0.498466\n",
       "727      -5.431738        1        0.497350\n",
       "728      -2.658209        1        0.497629\n",
       "729       0.896724        1        0.497629\n",
       "\n",
       "[729 rows x 3 columns]"
      ]
     },
     "execution_count": 116,
     "metadata": {},
     "output_type": "execute_result"
    }
   ],
   "source": [
    "df_regression_detrend = df_calendar_regression.drop(columns=['date', 'boston?', 'occupancy_rate'])\n",
    "df_regression_detrend = df_regression_detrend.diff().loc[1:]\n",
    "# add the other columns back\n",
    "df_regression_detrend = df_regression_detrend.join(df_calendar_regression[['boston?', 'occupancy_rate']])\n",
    "df_regression_detrend "
   ]
  },
  {
   "cell_type": "code",
   "execution_count": 117,
   "metadata": {
    "scrolled": true
   },
   "outputs": [],
   "source": [
    "# prepare data for the linear regression by create matrix for independent variables X and a vector y for dependent variable\n",
    "X_2 = df_regression_detrend[['occupancy_rate', 'boston?']]\n",
    "y_2 = df_regression_detrend[['average_price']]\n",
    "# split the data into train and test set\n",
    "X_train_2, X_test_2, y_train_2, y_test_2 = train_test_split(X_2, y_2, test_size = .30, random_state=42) \n",
    "\n",
    "# run a linear regression model\n",
    "lm_model_2 = LinearRegression(normalize=True) # Instantiate\n",
    "lm_model_2.fit(X_train_2, y_train_2) #Fit\n",
    "        \n",
    "#Predict and score the model\n",
    "y_test_preds_2 = lm_model_2.predict(X_test_2) "
   ]
  },
  {
   "cell_type": "code",
   "execution_count": 118,
   "metadata": {
    "scrolled": true
   },
   "outputs": [
    {
     "data": {
      "text/plain": [
       "'The r-squared score for the model after de-tredning the time series was 0.53 on 219 values.'"
      ]
     },
     "execution_count": 118,
     "metadata": {},
     "output_type": "execute_result"
    }
   ],
   "source": [
    "\"The r-squared score for the model after de-tredning the time series was {:.2f} on {} values.\".format(r2_score(y_test_2, y_test_preds_2), len(y_test_2))"
   ]
  },
  {
   "cell_type": "markdown",
   "metadata": {},
   "source": [
    "# Results Summary"
   ]
  },
  {
   "cell_type": "markdown",
   "metadata": {},
   "source": [
    "In this notebook I've analyzed the prices of AirBnB apartments for Boston and Seattle. To remind everyone of what I was interested in, these were my initial questions:\n",
    "1. Are there any seasonality effects/do prices tend to be higher during certain times of the year?\n",
    "2. Are there any significat differences between AirBnB prices between the two cities or are they similar?\n",
    "3. Can we use the \"% of available apartments\" to predict the average price for an AirBnB booking?"
   ]
  },
  {
   "cell_type": "markdown",
   "metadata": {},
   "source": [
    "Below are the main outcomes:\n",
    "1. There is seasonality effect for both cities. Namely the most expensive/most popular month to visit both cities is September and the cheapest/least popular are January and February\n",
    "* There are a few differences between the two cities:\n",
    "    * Boston has considerably higher average price throughout the year (by roughly 40%)\n",
    "    * The number of bookings in Boston is much higher than in Seattle. This can likely be explained by the fact that Boston is a more popular destination among tourists\n",
    "    * Higher demand/less available departments should result in a higher price. This can be clearly seen for Bostong while for Seattle this is less strongly pronounced\n",
    "* We can use available data to predict an average price for an apartment:\n",
    "    * \"% of available apartments\" has a strong predictive power and can be used in the model (r2 of 60%)\n",
    "    * Given there are some differences between the two cities it is worh adding a dummy variable that distinguishes whether a certain booking belongs to Boston or Seattle. This extra variable helps to improve the predictive power of the model (r2 of 89%)\n",
    "    * AirBnB data exhibits a strong trend and Dickey Fuller tests shows that we are dealing with non-stationary time series. This results in spurious regression and incorrect interpretation of results. After accounting for non-stationarity by de-trending the time series (and thus creating a stationary time series), r2 drops to 53%. This is much lower than initially thought but still clearly shows that we can use data to help predict future price for an AirBnB booking"
   ]
  },
  {
   "cell_type": "markdown",
   "metadata": {},
   "source": [
    "One could further improve the model by:\n",
    "* extending the dataset. Here I was working with roughly 1y of data only\n",
    "* add additional explanatory variables. All the information that makes one apartment more attractive from another, such as \"distance to a city center\", \"distance to a public transport\", \"years since last renovation\" etc should help further predict the price"
   ]
  },
  {
   "cell_type": "code",
   "execution_count": null,
   "metadata": {},
   "outputs": [],
   "source": []
  }
 ],
 "metadata": {
  "kernelspec": {
   "display_name": "Python 3",
   "language": "python",
   "name": "python3"
  },
  "language_info": {
   "codemirror_mode": {
    "name": "ipython",
    "version": 3
   },
   "file_extension": ".py",
   "mimetype": "text/x-python",
   "name": "python",
   "nbconvert_exporter": "python",
   "pygments_lexer": "ipython3",
   "version": "3.7.7"
  }
 },
 "nbformat": 4,
 "nbformat_minor": 4
}
